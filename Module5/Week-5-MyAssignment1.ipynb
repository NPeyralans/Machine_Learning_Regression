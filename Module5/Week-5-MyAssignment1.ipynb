{
 "cells": [
  {
   "cell_type": "code",
   "execution_count": 1,
   "metadata": {
    "collapsed": false
   },
   "outputs": [
    {
     "name": "stderr",
     "output_type": "stream",
     "text": [
      "A newer version of GraphLab Create (v1.9) is available! Your current version is v1.8.5.\n",
      "\n",
      "You can use pip to upgrade the graphlab-create package. For more information see https://dato.com/products/create/upgrade.\n"
     ]
    }
   ],
   "source": [
    "import graphlab"
   ]
  },
  {
   "cell_type": "code",
   "execution_count": 14,
   "metadata": {
    "collapsed": true
   },
   "outputs": [],
   "source": [
    "import numpy as np"
   ]
  },
  {
   "cell_type": "code",
   "execution_count": 3,
   "metadata": {
    "collapsed": false
   },
   "outputs": [],
   "source": [
    "sales = graphlab.SFrame('kc_house_data.gl/')"
   ]
  },
  {
   "cell_type": "code",
   "execution_count": 4,
   "metadata": {
    "collapsed": true
   },
   "outputs": [],
   "source": [
    "from math import log, sqrt\n",
    "sales['sqft_living_sqrt'] = sales['sqft_living'].apply(sqrt)\n",
    "sales['sqft_lot_sqrt'] = sales['sqft_lot'].apply(sqrt)\n",
    "sales['bedrooms_square'] = sales['bedrooms']*sales['bedrooms']\n",
    "\n",
    "# In the dataset, 'floors' was defined with type string, \n",
    "# so we'll convert them to float, before creating a new feature.\n",
    "sales['floors'] = sales['floors'].astype(float) \n",
    "sales['floors_square'] = sales['floors']*sales['floors']"
   ]
  },
  {
   "cell_type": "markdown",
   "metadata": {},
   "source": [
    "* Squaring bedrooms will increase the separation between not many bedrooms (e.g. 1) and lots of bedrooms (e.g. 4) since 1^2 = 1 but 4^2 = 16. Consequently this variable will mostly affect houses with many bedrooms.\n",
    "* On the other hand, taking square root of sqft_living will decrease the separation between big house and small house. The owner may not be exactly twice as happy for getting a house that is twice as big."
   ]
  },
  {
   "cell_type": "markdown",
   "metadata": {},
   "source": [
    "##Model with All Features"
   ]
  },
  {
   "cell_type": "code",
   "execution_count": 5,
   "metadata": {
    "collapsed": true
   },
   "outputs": [],
   "source": [
    "all_features = ['bedrooms', 'bedrooms_square',\n",
    "            'bathrooms',\n",
    "            'sqft_living', 'sqft_living_sqrt',\n",
    "            'sqft_lot', 'sqft_lot_sqrt',\n",
    "            'floors', 'floors_square',\n",
    "            'waterfront', 'view', 'condition', 'grade',\n",
    "            'sqft_above',\n",
    "            'sqft_basement',\n",
    "            'yr_built', 'yr_renovated']"
   ]
  },
  {
   "cell_type": "code",
   "execution_count": 8,
   "metadata": {
    "collapsed": false
   },
   "outputs": [],
   "source": [
    "model_all = graphlab.linear_regression.create(sales, target='price', \n",
    "                                              features=all_features,\n",
    "                                              validation_set=None, \n",
    "                                              l2_penalty=0., l1_penalty=1e10, \n",
    "                                              verbose=False)"
   ]
  },
  {
   "cell_type": "markdown",
   "metadata": {},
   "source": [
    "Which features have a non-zero coeficient?"
   ]
  },
  {
   "cell_type": "code",
   "execution_count": 10,
   "metadata": {
    "collapsed": false
   },
   "outputs": [
    {
     "name": "stdout",
     "output_type": "stream",
     "text": [
      "+------------------+-------+---------------+--------+\n",
      "|       name       | index |     value     | stderr |\n",
      "+------------------+-------+---------------+--------+\n",
      "|   (intercept)    |  None |  274873.05595 |  None  |\n",
      "|     bedrooms     |  None |      0.0      |  None  |\n",
      "| bedrooms_square  |  None |      0.0      |  None  |\n",
      "|    bathrooms     |  None | 8468.53108691 |  None  |\n",
      "|   sqft_living    |  None | 24.4207209824 |  None  |\n",
      "| sqft_living_sqrt |  None | 350.060553386 |  None  |\n",
      "|     sqft_lot     |  None |      0.0      |  None  |\n",
      "|  sqft_lot_sqrt   |  None |      0.0      |  None  |\n",
      "|      floors      |  None |      0.0      |  None  |\n",
      "|  floors_square   |  None |      0.0      |  None  |\n",
      "|    waterfront    |  None |      0.0      |  None  |\n",
      "|       view       |  None |      0.0      |  None  |\n",
      "|    condition     |  None |      0.0      |  None  |\n",
      "|      grade       |  None | 842.068034898 |  None  |\n",
      "|    sqft_above    |  None | 20.0247224171 |  None  |\n",
      "|  sqft_basement   |  None |      0.0      |  None  |\n",
      "|     yr_built     |  None |      0.0      |  None  |\n",
      "|   yr_renovated   |  None |      0.0      |  None  |\n",
      "+------------------+-------+---------------+--------+\n",
      "[18 rows x 4 columns]\n",
      "\n"
     ]
    }
   ],
   "source": [
    "model_all.get(\"coefficients\").print_rows(num_rows=18)"
   ]
  },
  {
   "cell_type": "markdown",
   "metadata": {},
   "source": [
    "Note that a majority of the weights have been set to zero. So by setting an L1 penalty that's large enough, we are performing a subset selection. \n",
    "\n",
    "***QUIZ QUESTION***:\n",
    "According to this list of weights, which of the features have been chosen?"
   ]
  },
  {
   "cell_type": "markdown",
   "metadata": {},
   "source": [
    "1. bathrooms\n",
    "2. sqft_living\n",
    "3. sqft_living_sqrt\n",
    "4. grade\n",
    "5. sqft_above"
   ]
  },
  {
   "cell_type": "markdown",
   "metadata": {},
   "source": [
    "# Selecting an L1 penalty"
   ]
  },
  {
   "cell_type": "markdown",
   "metadata": {},
   "source": [
    "To find a good L1 penalty, we will explore multiple values using a validation set. Let us do three way split into train, validation, and test sets:\n",
    "* Split our sales data into 2 sets: training and test\n",
    "* Further split our training data into two sets: train, validation\n",
    "\n",
    "Be *very* careful that you use seed = 1 to ensure you get the same answer!"
   ]
  },
  {
   "cell_type": "code",
   "execution_count": 11,
   "metadata": {
    "collapsed": true
   },
   "outputs": [],
   "source": [
    "(training_and_validation, testing) = sales.random_split(.9,seed=1)\n",
    "(training, validation) = training_and_validation.random_split(0.5, seed=1)"
   ]
  },
  {
   "cell_type": "markdown",
   "metadata": {},
   "source": [
    "Next, we write a loop that does the following:\n",
    "* For `l1_penalty` in [10^1, 10^1.5, 10^2, 10^2.5, ..., 10^7] (to get this in Python, type `np.logspace(1, 7, num=13)`.)\n",
    "    * Fit a regression model with a given `l1_penalty` on TRAIN data. Specify `l1_penalty=l1_penalty` and `l2_penalty=0.` in the parameter list.\n",
    "    * Compute the RSS on VALIDATION data (here you will want to use `.predict()`) for that `l1_penalty`\n",
    "* Report which `l1_penalty` produced the lowest RSS on validation data.\n",
    "\n",
    "When you call `linear_regression.create()` make sure you set `validation_set = None`.\n",
    "\n",
    "Note: you can turn off the print out of `linear_regression.create()` with `verbose = False`"
   ]
  },
  {
   "cell_type": "code",
   "execution_count": 12,
   "metadata": {
    "collapsed": true
   },
   "outputs": [],
   "source": [
    "def get_residual_sum_of_squares(model, data, outcome):\n",
    "    predicted_price = model.predict(data)\n",
    "    residuals = predicted_price - outcome\n",
    "    RSS = (residuals * residuals).sum()\n",
    "    return(RSS)  "
   ]
  },
  {
   "cell_type": "code",
   "execution_count": 23,
   "metadata": {
    "collapsed": false
   },
   "outputs": [
    {
     "name": "stdout",
     "output_type": "stream",
     "text": [
      "For l1_penalty: 10.0 the rss was: 6.25766285142e+14\n",
      "\n",
      "For l1_penalty: 31.6227766017 the rss was: 6.25766285362e+14\n",
      "\n",
      "For l1_penalty: 100.0 the rss was: 6.25766286058e+14\n",
      "\n",
      "For l1_penalty: 316.227766017 the rss was: 6.25766288257e+14\n",
      "\n",
      "For l1_penalty: 1000.0 the rss was: 6.25766295212e+14\n",
      "\n",
      "For l1_penalty: 3162.27766017 the rss was: 6.25766317206e+14\n",
      "\n",
      "For l1_penalty: 10000.0 the rss was: 6.25766386761e+14\n",
      "\n",
      "For l1_penalty: 31622.7766017 the rss was: 6.25766606749e+14\n",
      "\n",
      "For l1_penalty: 100000.0 the rss was: 6.25767302792e+14\n",
      "\n",
      "For l1_penalty: 316227.766017 the rss was: 6.25769507644e+14\n",
      "\n",
      "For l1_penalty: 1000000.0 the rss was: 6.25776517727e+14\n",
      "\n",
      "For l1_penalty: 3162277.66017 the rss was: 6.25799062845e+14\n",
      "\n",
      "For l1_penalty: 10000000.0 the rss was: 6.25883719085e+14\n",
      "\n",
      "The min rss was 6.25766285142e+14 had a l1_penalty of 10.0\n"
     ]
    }
   ],
   "source": [
    "residuals = []\n",
    "rss_min = float('inf')\n",
    "best_model = 0\n",
    "best_l1 = 0\n",
    "for l1_penalty in np.logspace(1, 7, num=13):\n",
    "    model = graphlab.linear_regression.create(training, target='price', \n",
    "                                              features=all_features,\n",
    "                                              validation_set=None, \n",
    "                                              l2_penalty=0, l1_penalty=l1_penalty, \n",
    "                                              verbose=False)\n",
    "    rss = get_residual_sum_of_squares(model, validation, validation['price'])\n",
    "    residuals.append(rss)\n",
    "    if rss < rss_min:\n",
    "        rss_min = rss\n",
    "        best_model = model\n",
    "        best_l1 = l1_penalty\n",
    "    print 'For l1_penalty: ' + str(l1_penalty) + ' the rss was: ' + str(rss) + '\\n'\n",
    "print 'The min rss was ' + str(rss_min) + ' had a l1_penalty of ' + str(best_l1)\n",
    "    "
   ]
  },
  {
   "cell_type": "markdown",
   "metadata": {},
   "source": [
    "*** QUIZ QUESTIONS ***\n",
    "1. What was the best value for the `l1_penalty`?\n",
    "10.0\n",
    "2. What is the RSS on TEST data of the model with the best `l1_penalty`?\n",
    "156983602381664.2"
   ]
  },
  {
   "cell_type": "code",
   "execution_count": 24,
   "metadata": {
    "collapsed": false
   },
   "outputs": [
    {
     "data": {
      "text/plain": [
       "156983602381664.2"
      ]
     },
     "execution_count": 24,
     "metadata": {},
     "output_type": "execute_result"
    }
   ],
   "source": [
    "get_residual_sum_of_squares(best_model, testing, testing['price'])"
   ]
  },
  {
   "cell_type": "markdown",
   "metadata": {},
   "source": [
    "***QUIZ QUESTION***\n",
    "Also, using this value of L1 penalty, how many nonzero weights do you have? 18"
   ]
  },
  {
   "cell_type": "code",
   "execution_count": 26,
   "metadata": {
    "collapsed": false
   },
   "outputs": [
    {
     "name": "stdout",
     "output_type": "stream",
     "text": [
      "+------------------+-------+------------------+--------+\n",
      "|       name       | index |      value       | stderr |\n",
      "+------------------+-------+------------------+--------+\n",
      "|   (intercept)    |  None |  18993.4272128   |  None  |\n",
      "|     bedrooms     |  None |  7936.96767903   |  None  |\n",
      "| bedrooms_square  |  None |  936.993368193   |  None  |\n",
      "|    bathrooms     |  None |  25409.5889341   |  None  |\n",
      "|   sqft_living    |  None |  39.1151363797   |  None  |\n",
      "| sqft_living_sqrt |  None |  1124.65021281   |  None  |\n",
      "|     sqft_lot     |  None | 0.00348361822299 |  None  |\n",
      "|  sqft_lot_sqrt   |  None |  148.258391011   |  None  |\n",
      "|      floors      |  None |   21204.335467   |  None  |\n",
      "|  floors_square   |  None |  12915.5243361   |  None  |\n",
      "|    waterfront    |  None |  601905.594545   |  None  |\n",
      "|       view       |  None |  93312.8573119   |  None  |\n",
      "|    condition     |  None |  6609.03571245   |  None  |\n",
      "|      grade       |  None |  6206.93999188   |  None  |\n",
      "|    sqft_above    |  None |  43.2870534193   |  None  |\n",
      "|  sqft_basement   |  None |  122.367827534   |  None  |\n",
      "|     yr_built     |  None |  9.43363539372   |  None  |\n",
      "|   yr_renovated   |  None |  56.0720034488   |  None  |\n",
      "+------------------+-------+------------------+--------+\n",
      "[18 rows x 4 columns]\n",
      "\n"
     ]
    }
   ],
   "source": [
    "best_model.get(\"coefficients\").print_rows(num_rows=18)"
   ]
  },
  {
   "cell_type": "markdown",
   "metadata": {},
   "source": [
    "# Limit the number of nonzero weights\n",
    "\n",
    "What if we absolutely wanted to limit ourselves to, say, 7 features? This may be important if we want to derive \"a rule of thumb\" --- an interpretable model that has only a few features in them."
   ]
  },
  {
   "cell_type": "markdown",
   "metadata": {},
   "source": [
    "In this section, you are going to implement a simple, two phase procedure to achive this goal:\n",
    "1. Explore a large range of `l1_penalty` values to find a narrow region of `l1_penalty` values where models are likely to have the desired number of non-zero weights.\n",
    "2. Further explore the narrow region you found to find a good value for `l1_penalty` that achieves the desired sparsity.  Here, we will again use a validation set to choose the best value for `l1_penalty`."
   ]
  },
  {
   "cell_type": "code",
   "execution_count": 27,
   "metadata": {
    "collapsed": true
   },
   "outputs": [],
   "source": [
    "max_nonzeros = 7"
   ]
  },
  {
   "cell_type": "markdown",
   "metadata": {},
   "source": [
    "## Exploring the larger range of values to find a narrow range with the desired sparsity\n",
    "\n",
    "Let's define a wide range of possible `l1_penalty_values`:"
   ]
  },
  {
   "cell_type": "code",
   "execution_count": 29,
   "metadata": {
    "collapsed": true
   },
   "outputs": [],
   "source": [
    "l1_penalty_values = np.logspace(8, 10, num=20)"
   ]
  },
  {
   "cell_type": "markdown",
   "metadata": {},
   "source": [
    "Now, implement a loop that search through this space of possible `l1_penalty` values:\n",
    "\n",
    "* For `l1_penalty` in `np.logspace(8, 10, num=20)`:\n",
    "    * Fit a regression model with a given `l1_penalty` on TRAIN data. Specify `l1_penalty=l1_penalty` and `l2_penalty=0.` in the parameter list. When you call `linear_regression.create()` make sure you set `validation_set = None`\n",
    "    * Extract the weights of the model and count the number of nonzeros. Save the number of nonzeros to a list.\n",
    "        * *Hint: `model['coefficients']['value']` gives you an SArray with the parameters you learned.  If you call the method `.nnz()` on it, you will find the number of non-zero parameters!* "
   ]
  },
  {
   "cell_type": "code",
   "execution_count": 37,
   "metadata": {
    "collapsed": false
   },
   "outputs": [
    {
     "name": "stdout",
     "output_type": "stream",
     "text": [
      "For l1 penalty 100000000.0 the number of non-zeros were: 18\n",
      "For l1 penalty 127427498.57 the number of non-zeros were: 18\n",
      "For l1 penalty 162377673.919 the number of non-zeros were: 18\n",
      "For l1 penalty 206913808.111 the number of non-zeros were: 18\n",
      "For l1 penalty 263665089.873 the number of non-zeros were: 17\n",
      "For l1 penalty 335981828.628 the number of non-zeros were: 17\n",
      "For l1 penalty 428133239.872 the number of non-zeros were: 17\n",
      "For l1 penalty 545559478.117 the number of non-zeros were: 17\n",
      "For l1 penalty 695192796.178 the number of non-zeros were: 17\n",
      "For l1 penalty 885866790.41 the number of non-zeros were: 16\n",
      "For l1 penalty 1128837891.68 the number of non-zeros were: 15\n",
      "For l1 penalty 1438449888.29 the number of non-zeros were: 15\n",
      "For l1 penalty 1832980710.83 the number of non-zeros were: 13\n",
      "For l1 penalty 2335721469.09 the number of non-zeros were: 12\n",
      "For l1 penalty 2976351441.63 the number of non-zeros were: 10\n",
      "For l1 penalty 3792690190.73 the number of non-zeros were: 6\n",
      "For l1 penalty 4832930238.57 the number of non-zeros were: 5\n",
      "For l1 penalty 6158482110.66 the number of non-zeros were: 3\n",
      "For l1 penalty 7847599703.51 the number of non-zeros were: 1\n",
      "For l1 penalty 10000000000.0 the number of non-zeros were: 1\n"
     ]
    }
   ],
   "source": [
    "l1_penalty_to_non_zeros = {}\n",
    "non_zero_array = []\n",
    "for l1_penalty in np.logspace(8,10, num=20):\n",
    "    model = graphlab.linear_regression.create(training, target='price', \n",
    "                                          features=all_features,\n",
    "                                          validation_set=None, \n",
    "                                          l2_penalty=0, l1_penalty=l1_penalty, \n",
    "                                          verbose=False)\n",
    "    parameters = model['coefficients']['value']\n",
    "    non_zeros = parameters.nnz()\n",
    "    non_zero_array.append(non_zeros)\n",
    "    print 'For l1 penalty ' + str(l1_penalty) + ' the number of non-zeros were: ' + str(non_zeros) \n",
    "    l1_penalty_to_non_zeros[l1_penalty] = non_zeros "
   ]
  },
  {
   "cell_type": "code",
   "execution_count": 32,
   "metadata": {
    "collapsed": false
   },
   "outputs": [
    {
     "data": {
      "text/plain": [
       "[18, 18, 18, 18, 17, 17, 17, 17, 17, 16, 15, 15, 13, 12, 10, 6, 5, 3, 1, 1]"
      ]
     },
     "execution_count": 32,
     "metadata": {},
     "output_type": "execute_result"
    }
   ],
   "source": [
    "non_zero_array"
   ]
  },
  {
   "cell_type": "markdown",
   "metadata": {},
   "source": [
    "Out of this large range, we want to find the two ends of our desired narrow range of `l1_penalty`.  At one end, we will have `l1_penalty` values that have too few non-zeros, and at the other end, we will have an `l1_penalty` that has too many non-zeros.  \n",
    "\n",
    "More formally, find:\n",
    "* The largest `l1_penalty` that has more non-zeros than `max_nonzero` (if we pick a penalty smaller than this value, we will definitely have too many non-zero weights)\n",
    "    * Store this value in the variable `l1_penalty_min` (we will use it later)\n",
    "* The smallest `l1_penalty` that has fewer non-zeros than `max_nonzero` (if we pick a penalty larger than this value, we will definitely have too few non-zero weights)\n",
    "    * Store this value in the variable `l1_penalty_max` (we will use it later)\n",
    "\n",
    "\n",
    "*Hint: there are many ways to do this, e.g.:*\n",
    "* Programmatically within the loop above\n",
    "* Creating a list with the number of non-zeros for each value of `l1_penalty` and inspecting it to find the appropriate boundaries."
   ]
  },
  {
   "cell_type": "markdown",
   "metadata": {},
   "source": [
    "For l1 penalty 6158482110.66 the number of non-zeros were: 3<br>For l1 penalty 2976351441.63 the number of non-zeros were: 10"
   ]
  },
  {
   "cell_type": "code",
   "execution_count": 38,
   "metadata": {
    "collapsed": true
   },
   "outputs": [],
   "source": [
    "l1_penalty_max = 6158482110.66\n",
    "l1_penalty_min = 2976351441.63"
   ]
  },
  {
   "cell_type": "markdown",
   "metadata": {},
   "source": [
    "***QUIZ QUESTIONS***\n",
    "\n",
    "What values did you find for `l1_penalty_min` and`l1_penalty_max`? "
   ]
  },
  {
   "cell_type": "markdown",
   "metadata": {},
   "source": [
    "## Exploring the narrow range of values to find the solution with the right number of non-zeros that has lowest RSS on the validation set \n",
    "\n",
    "We will now explore the narrow region of `l1_penalty` values we found:"
   ]
  },
  {
   "cell_type": "code",
   "execution_count": 40,
   "metadata": {
    "collapsed": true
   },
   "outputs": [],
   "source": [
    "l1_penalty_values = np.linspace(l1_penalty_min,l1_penalty_max,20)"
   ]
  },
  {
   "cell_type": "markdown",
   "metadata": {},
   "source": [
    "* For `l1_penalty` in `np.linspace(l1_penalty_min,l1_penalty_max,20)`:\n",
    "    * Fit a regression model with a given `l1_penalty` on TRAIN data. Specify `l1_penalty=l1_penalty` and `l2_penalty=0.` in the parameter list. When you call `linear_regression.create()` make sure you set `validation_set = None`\n",
    "    * Measure the RSS of the learned model on the VALIDATION set\n",
    "\n",
    "Find the model that the lowest RSS on the VALIDATION set and has sparsity *equal* to `max_nonzero`."
   ]
  },
  {
   "cell_type": "code",
   "execution_count": 48,
   "metadata": {
    "collapsed": false
   },
   "outputs": [
    {
     "name": "stdout",
     "output_type": "stream",
     "text": [
      "For l1 value of : 2976351441.63 the non-zeros were: 10\n",
      "And rss value of : 9.66925692362e+14\n",
      "\n",
      "For l1 value of : 3143832003.16 the non-zeros were: 10\n",
      "And rss value of : 9.97802116168e+14\n",
      "\n",
      "For l1 value of : 3311312564.69 the non-zeros were: 8\n",
      "And rss value of : 1.03381440214e+15\n",
      "\n",
      "For l1 value of : 3478793126.21 the non-zeros were: 7\n",
      "And rss value of : 1.04967257541e+15\n",
      "\n",
      "For l1 value of : 3646273687.74 the non-zeros were: 6\n",
      "And rss value of : 1.06793032282e+15\n",
      "\n",
      "For l1 value of : 3813754249.27 the non-zeros were: 6\n",
      "And rss value of : 1.08404612419e+15\n",
      "\n",
      "For l1 value of : 3981234810.8 the non-zeros were: 6\n",
      "And rss value of : 1.10253230983e+15\n",
      "\n",
      "For l1 value of : 4148715372.33 the non-zeros were: 6\n",
      "And rss value of : 1.12549180194e+15\n",
      "\n",
      "For l1 value of : 4316195933.85 the non-zeros were: 6\n",
      "And rss value of : 1.15109771081e+15\n",
      "\n",
      "For l1 value of : 4483676495.38 the non-zeros were: 6\n",
      "And rss value of : 1.18043371645e+15\n",
      "\n",
      "For l1 value of : 4651157056.91 the non-zeros were: 6\n",
      "And rss value of : 1.21069041734e+15\n",
      "\n",
      "For l1 value of : 4818637618.44 the non-zeros were: 5\n",
      "And rss value of : 1.24287443584e+15\n",
      "\n",
      "For l1 value of : 4986118179.96 the non-zeros were: 5\n",
      "And rss value of : 1.26701556747e+15\n",
      "\n",
      "For l1 value of : 5153598741.49 the non-zeros were: 5\n",
      "And rss value of : 1.29392362919e+15\n",
      "\n",
      "For l1 value of : 5321079303.02 the non-zeros were: 5\n",
      "And rss value of : 1.32141457338e+15\n",
      "\n",
      "For l1 value of : 5488559864.55 the non-zeros were: 4\n",
      "And rss value of : 1.34183155572e+15\n",
      "\n",
      "For l1 value of : 5656040426.08 the non-zeros were: 3\n",
      "And rss value of : 1.35440383539e+15\n",
      "\n",
      "For l1 value of : 5823520987.6 the non-zeros were: 3\n",
      "And rss value of : 1.36216731607e+15\n",
      "\n",
      "For l1 value of : 5991001549.13 the non-zeros were: 3\n",
      "And rss value of : 1.3706978595e+15\n",
      "\n",
      "For l1 value of : 6158482110.66 the non-zeros were: 3\n",
      "And rss value of : 1.38416149024e+15\n",
      "\n",
      "The min rss was: 9.66925692362e+14\n",
      "\n",
      "The min rss for sparsity of 7 was: 1.04967257541e+15\n"
     ]
    }
   ],
   "source": [
    "residuals = []\n",
    "rss_min = float('inf')\n",
    "best_model = 0\n",
    "best_l1 = 0\n",
    "best_model_with_7 = 0\n",
    "min_rss_for_7 = float('inf')\n",
    "for l1_penalty in l1_penalty_values:\n",
    "    model = graphlab.linear_regression.create(training, target='price', \n",
    "                                          features=all_features,\n",
    "                                          validation_set=None, \n",
    "                                          l2_penalty=0, l1_penalty=l1_penalty, \n",
    "                                          verbose=False)\n",
    "    rss = get_residual_sum_of_squares(model, validation, validation['price'])\n",
    "    parameters = model['coefficients']['value']\n",
    "    non_zeros = parameters.nnz()\n",
    "    print 'For l1 value of : ' + str(l1_penalty) + ' the non-zeros were: ' + str(non_zeros)\n",
    "    print 'And rss value of : ' + str(rss)  + '\\n'\n",
    "    if rss < rss_min:\n",
    "        rss_min = rss\n",
    "        best_model = model\n",
    "        best_l1 = l1_penalty\n",
    "    if non_zeros == max_nonzeros:\n",
    "        best_model_with_7 = model\n",
    "        min_rss_for_7 = rss\n",
    "print 'The min rss was: ' + str(rss_min) + '\\n'\n",
    "print 'The min rss for sparsity of 7 was: ' + str(min_rss_for_7)"
   ]
  },
  {
   "cell_type": "code",
   "execution_count": 50,
   "metadata": {
    "collapsed": false
   },
   "outputs": [
    {
     "name": "stdout",
     "output_type": "stream",
     "text": [
      "+------------------+-------+---------------+--------+\n",
      "|       name       | index |     value     | stderr |\n",
      "+------------------+-------+---------------+--------+\n",
      "|   (intercept)    |  None | 223853.354326 |  None  |\n",
      "|     bedrooms     |  None | 550.470071563 |  None  |\n",
      "| bedrooms_square  |  None |      0.0      |  None  |\n",
      "|    bathrooms     |  None | 15716.6303041 |  None  |\n",
      "|   sqft_living    |  None | 32.2718853021 |  None  |\n",
      "| sqft_living_sqrt |  None | 682.560585124 |  None  |\n",
      "|     sqft_lot     |  None |      0.0      |  None  |\n",
      "|  sqft_lot_sqrt   |  None |      0.0      |  None  |\n",
      "|      floors      |  None |      0.0      |  None  |\n",
      "|  floors_square   |  None |      0.0      |  None  |\n",
      "|    waterfront    |  None |      0.0      |  None  |\n",
      "|       view       |  None |      0.0      |  None  |\n",
      "|    condition     |  None |      0.0      |  None  |\n",
      "|      grade       |  None | 2849.30704821 |  None  |\n",
      "|    sqft_above    |  None | 29.8102546932 |  None  |\n",
      "|  sqft_basement   |  None |      0.0      |  None  |\n",
      "|     yr_built     |  None |      0.0      |  None  |\n",
      "|   yr_renovated   |  None |      0.0      |  None  |\n",
      "+------------------+-------+---------------+--------+\n",
      "[18 rows x 4 columns]\n",
      "\n"
     ]
    }
   ],
   "source": [
    "best_model_with_7.get('coefficients').print_rows(num_rows=18)"
   ]
  },
  {
   "cell_type": "markdown",
   "metadata": {},
   "source": [
    "***QUIZ QUESTIONS***\n",
    "1. What value of `l1_penalty` in our narrow range has the lowest RSS on the VALIDATION set and has sparsity *equal* to `max_nonzeros`?\n",
    "2. What features in this model have non-zero coefficients?"
   ]
  },
  {
   "cell_type": "markdown",
   "metadata": {},
   "source": [
    "1. For l1 value of : 3478793126.21 the non-zeros were: 7\n",
    "And rss value of : 1.04967257541e+15 <br>\n",
    "2. intercept, bedrooms, bathrooms, sqft_living, sqft_living_sqrt, grade, sqft_above"
   ]
  },
  {
   "cell_type": "code",
   "execution_count": null,
   "metadata": {
    "collapsed": true
   },
   "outputs": [],
   "source": []
  }
 ],
 "metadata": {
  "kernelspec": {
   "display_name": "Python 2",
   "language": "python",
   "name": "python2"
  },
  "language_info": {
   "codemirror_mode": {
    "name": "ipython",
    "version": 2
   },
   "file_extension": ".py",
   "mimetype": "text/x-python",
   "name": "python",
   "nbconvert_exporter": "python",
   "pygments_lexer": "ipython2",
   "version": "2.7.10"
  }
 },
 "nbformat": 4,
 "nbformat_minor": 0
}
